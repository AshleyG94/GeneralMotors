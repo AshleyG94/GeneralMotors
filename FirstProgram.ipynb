{
 "cells": [
  {
   "cell_type": "markdown",
   "metadata": {},
   "source": [
    "# Jupyter week 2 learnings\n",
    "___"
   ]
  },
  {
   "cell_type": "markdown",
   "metadata": {},
   "source": [
    "## 1.Box-Types"
   ]
  },
  {
   "cell_type": "markdown",
   "metadata": {},
   "source": [
    "There are 4 types of box available to use, selected from the dropdown menu which by default reads 'code'\n",
    "These are:\n",
    "1. Code - Runs Python Code\n",
    "2. Markdown - Subset of HTML, handles formatting and non-code information on point. **Normal** formatting rules apply such as double * for bold - [Markdown Cheatsheet found here](http://assemble.io/docs/Cheatsheet-Markdown.html)\n",
    "3. RawNBConvert\n",
    "4. Header (This is legacy and done with markdown now)\n",
    "\n",
    "Pressing Alt-Enter compiles whatever type of box that you made"
   ]
  },
  {
   "cell_type": "markdown",
   "metadata": {},
   "source": [
    "## 2.Code Box Findings\n",
    "This works like adding a text box that compiles python instead displaying both input and output. For example..."
   ]
  },
  {
   "cell_type": "code",
   "execution_count": 5,
   "metadata": {
    "collapsed": false
   },
   "outputs": [
    {
     "name": "stdout",
     "output_type": "stream",
     "text": [
      "Hello World!\n"
     ]
    }
   ],
   "source": [
    "print('Hello World!')"
   ]
  },
  {
   "cell_type": "code",
   "execution_count": 6,
   "metadata": {
    "collapsed": false
   },
   "outputs": [
    {
     "name": "stdout",
     "output_type": "stream",
     "text": [
      "2, 3, 5, 8, 13, 21, 34, 55, 89, 144, "
     ]
    }
   ],
   "source": [
    "Fib1 = 1\n",
    "Fib2 = 1\n",
    "for i in range(10):\n",
    "    NextFib = Fib1 + Fib2\n",
    "    print(str(NextFib) + \",\", end=\" \")\n",
    "    Fib1 = Fib2\n",
    "    Fib2 = NextFib"
   ]
  },
  {
   "cell_type": "markdown",
   "metadata": {},
   "source": [
    "One **immediate** problem is that the number IN [X]: is based on the amount of code boxes used and doesn't self correct for cut code boxes - work on this!!!"
   ]
  },
  {
   "cell_type": "markdown",
   "metadata": {},
   "source": [
    "## 3.Lets Get to the GOod Stuff Already!\n",
    "yes that means widgets\n",
    "[Tutorial Here](http://blog.dominodatalab.com/interactive-dashboards-in-jupyter/)\n",
    "### 3.1.Text Input\n",
    "Below is the code to make a text input box that spits out whatever is put in. "
   ]
  },
  {
   "cell_type": "code",
   "execution_count": 7,
   "metadata": {
    "collapsed": false
   },
   "outputs": [],
   "source": [
    "from ipywidgets import widgets\n",
    "from IPython.display import display\n",
    "\n",
    "Input = widgets.Text()\n",
    "display(Input)\n",
    "\n",
    "def text_submit(sender):\n",
    "    print(Input.value)\n",
    "    \n",
    "Input.on_submit(text_submit)\n",
    "\n"
   ]
  },
  {
   "cell_type": "markdown",
   "metadata": {},
   "source": [
    "Now moving on to a different type of widget - I'm going to hope I don't have to re-import after every new code box\n",
    "### 3.2.Interact widgets - Default Generation\n",
    "Give Interact an integer and we get a slider"
   ]
  },
  {
   "cell_type": "code",
   "execution_count": 8,
   "metadata": {
    "collapsed": false
   },
   "outputs": [
    {
     "name": "stdout",
     "output_type": "stream",
     "text": [
      "4 + 1 = 5\n"
     ]
    },
    {
     "data": {
      "text/plain": [
       "<function __main__.f>"
      ]
     },
     "execution_count": 8,
     "metadata": {},
     "output_type": "execute_result"
    }
   ],
   "source": [
    "from ipywidgets import widgets\n",
    "from ipywidgets import interact\n",
    "def f(x):\n",
    "    print(str(x) + \" + 1 = \" + str((x+1)))\n",
    "interact(f, x=4)"
   ]
  },
  {
   "cell_type": "markdown",
   "metadata": {},
   "source": [
    "A Boolean and we get a checkbox"
   ]
  },
  {
   "cell_type": "code",
   "execution_count": 9,
   "metadata": {
    "collapsed": false
   },
   "outputs": [
    {
     "name": "stdout",
     "output_type": "stream",
     "text": [
      "Party Time\n"
     ]
    },
    {
     "data": {
      "text/plain": [
       "<function __main__.g>"
      ]
     },
     "execution_count": 9,
     "metadata": {},
     "output_type": "execute_result"
    }
   ],
   "source": [
    "def g(Party):\n",
    "    if Party == True:\n",
    "        print('Party Time')\n",
    "    else:\n",
    "        print(' awww :(')\n",
    "\n",
    "interact(g, Party = True)"
   ]
  },
  {
   "cell_type": "markdown",
   "metadata": {},
   "source": [
    "### 3.3. Mathsy Stuff\n",
    "Can make interactive graphs - cool!\n"
   ]
  },
  {
   "cell_type": "code",
   "execution_count": 10,
   "metadata": {
    "collapsed": false
   },
   "outputs": [
    {
     "data": {
      "image/png": "[encoded data removed]",
      "text/plain": [
       "<matplotlib.figure.Figure at 0xfdfa4eca20>"
      ]
     },
     "metadata": {},
     "output_type": "display_data"
    }
   ],
   "source": [
    "from IPython.html.widgets import *\n",
    "from numpy import *\n",
    "from matplotlib.pyplot import *\n",
    "%pylab inline\n",
    "values = arange(0.0,1.0,0.01)\n",
    "\n",
    "def SinPlot(f):\n",
    "    plt.plot(values,sin(2*pi*values*f))\n",
    "    plt.show()\n",
    "    \n",
    "interact(SinPlot, f = ((1,10,0.1)))"
   ]
  }
 ],
 "metadata": {
  "celltoolbar": "Raw Cell Format",
  "kernelspec": {
   "display_name": "Python 3",
   "language": "python",
   "name": "python3"
  },
  "language_info": {
   "codemirror_mode": {
    "name": "ipython",
    "version": 3
   },
   "file_extension": ".py",
   "mimetype": "text/x-python",
   "name": "python",
   "nbconvert_exporter": "python",
   "pygments_lexer": "ipython3",
   "version": "3.5.0"
  }
 },
 "nbformat": 4,
 "nbformat_minor": 0
}
